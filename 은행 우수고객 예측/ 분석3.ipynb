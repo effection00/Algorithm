{
  "nbformat": 4,
  "nbformat_minor": 0,
  "metadata": {
    "colab": {
      "name": "Untitled27.ipynb",
      "provenance": [],
      "collapsed_sections": [],
      "mount_file_id": "1Fhs2TPn_NctCLpgijXMkss3iju_n7bF5",
      "authorship_tag": "ABX9TyPdRveMACLcrGE9gnrgALTI",
      "include_colab_link": true
    },
    "kernelspec": {
      "name": "python3",
      "display_name": "Python 3"
    },
    "language_info": {
      "name": "python"
    }
  },
  "cells": [
    {
      "cell_type": "markdown",
      "metadata": {
        "id": "view-in-github",
        "colab_type": "text"
      },
      "source": [
        "<a href=\"https://colab.research.google.com/github/effection00/Algorithm/blob/master/%EC%9D%80%ED%96%89%20%EC%9A%B0%EC%88%98%EA%B3%A0%EA%B0%9D%20%EC%98%88%EC%B8%A1/%20%EB%B6%84%EC%84%9D3.ipynb\" target=\"_parent\"><img src=\"https://colab.research.google.com/assets/colab-badge.svg\" alt=\"Open In Colab\"/></a>"
      ]
    },
    {
      "cell_type": "code",
      "metadata": {
        "colab": {
          "base_uri": "https://localhost:8080/"
        },
        "id": "VhyfrnQOpKKc",
        "outputId": "8b5438f8-608f-410d-f7ed-93c76dd7d4bc"
      },
      "source": [
        "from google.colab import drive\n",
        "drive.mount('/content/dirve')"
      ],
      "execution_count": 578,
      "outputs": [
        {
          "output_type": "stream",
          "text": [
            "Drive already mounted at /content/dirve; to attempt to forcibly remount, call drive.mount(\"/content/dirve\", force_remount=True).\n"
          ],
          "name": "stdout"
        }
      ]
    },
    {
      "cell_type": "code",
      "metadata": {
        "id": "pRF9zLCPpJWk"
      },
      "source": [
        "import pandas as pd\n",
        "\n",
        "loan = pd.read_csv(\"/content/dirve/MyDrive/loan 수정.csv\")\n",
        "trans = pd.read_csv(\"/content/dirve/MyDrive/trans 수정.csv\")"
      ],
      "execution_count": 579,
      "outputs": []
    },
    {
      "cell_type": "code",
      "metadata": {
        "id": "ijWZSCvpqbRh",
        "colab": {
          "base_uri": "https://localhost:8080/",
          "height": 142
        },
        "outputId": "c9d1e7fa-cc71-4562-c169-435b320df7e0"
      },
      "source": [
        "trans.head(3)"
      ],
      "execution_count": 580,
      "outputs": [
        {
          "output_type": "execute_result",
          "data": {
            "text/html": [
              "<div>\n",
              "<style scoped>\n",
              "    .dataframe tbody tr th:only-of-type {\n",
              "        vertical-align: middle;\n",
              "    }\n",
              "\n",
              "    .dataframe tbody tr th {\n",
              "        vertical-align: top;\n",
              "    }\n",
              "\n",
              "    .dataframe thead th {\n",
              "        text-align: right;\n",
              "    }\n",
              "</style>\n",
              "<table border=\"1\" class=\"dataframe\">\n",
              "  <thead>\n",
              "    <tr style=\"text-align: right;\">\n",
              "      <th></th>\n",
              "      <th>trans_id</th>\n",
              "      <th>account_id</th>\n",
              "      <th>date</th>\n",
              "      <th>type</th>\n",
              "      <th>operation</th>\n",
              "      <th>amount</th>\n",
              "      <th>balance</th>\n",
              "      <th>k_symbol</th>\n",
              "      <th>bank</th>\n",
              "      <th>account</th>\n",
              "    </tr>\n",
              "  </thead>\n",
              "  <tbody>\n",
              "    <tr>\n",
              "      <th>0</th>\n",
              "      <td>695247</td>\n",
              "      <td>2378</td>\n",
              "      <td>930101</td>\n",
              "      <td>PRIJEM</td>\n",
              "      <td>VKLAD</td>\n",
              "      <td>700.0</td>\n",
              "      <td>700.0</td>\n",
              "      <td>NaN</td>\n",
              "      <td>NaN</td>\n",
              "      <td>NaN</td>\n",
              "    </tr>\n",
              "    <tr>\n",
              "      <th>1</th>\n",
              "      <td>171812</td>\n",
              "      <td>576</td>\n",
              "      <td>930101</td>\n",
              "      <td>PRIJEM</td>\n",
              "      <td>VKLAD</td>\n",
              "      <td>900.0</td>\n",
              "      <td>900.0</td>\n",
              "      <td>NaN</td>\n",
              "      <td>NaN</td>\n",
              "      <td>NaN</td>\n",
              "    </tr>\n",
              "    <tr>\n",
              "      <th>2</th>\n",
              "      <td>207264</td>\n",
              "      <td>704</td>\n",
              "      <td>930101</td>\n",
              "      <td>PRIJEM</td>\n",
              "      <td>VKLAD</td>\n",
              "      <td>1000.0</td>\n",
              "      <td>1000.0</td>\n",
              "      <td>NaN</td>\n",
              "      <td>NaN</td>\n",
              "      <td>NaN</td>\n",
              "    </tr>\n",
              "  </tbody>\n",
              "</table>\n",
              "</div>"
            ],
            "text/plain": [
              "   trans_id  account_id    date    type  ... balance  k_symbol  bank account\n",
              "0    695247        2378  930101  PRIJEM  ...   700.0       NaN   NaN     NaN\n",
              "1    171812         576  930101  PRIJEM  ...   900.0       NaN   NaN     NaN\n",
              "2    207264         704  930101  PRIJEM  ...  1000.0       NaN   NaN     NaN\n",
              "\n",
              "[3 rows x 10 columns]"
            ]
          },
          "metadata": {
            "tags": []
          },
          "execution_count": 580
        }
      ]
    },
    {
      "cell_type": "code",
      "metadata": {
        "colab": {
          "base_uri": "https://localhost:8080/",
          "height": 142
        },
        "id": "J__F3ytnmjZF",
        "outputId": "eb522bdc-1c70-4acd-d398-6da0c64bc251"
      },
      "source": [
        "loan.head(3)"
      ],
      "execution_count": 581,
      "outputs": [
        {
          "output_type": "execute_result",
          "data": {
            "text/html": [
              "<div>\n",
              "<style scoped>\n",
              "    .dataframe tbody tr th:only-of-type {\n",
              "        vertical-align: middle;\n",
              "    }\n",
              "\n",
              "    .dataframe tbody tr th {\n",
              "        vertical-align: top;\n",
              "    }\n",
              "\n",
              "    .dataframe thead th {\n",
              "        text-align: right;\n",
              "    }\n",
              "</style>\n",
              "<table border=\"1\" class=\"dataframe\">\n",
              "  <thead>\n",
              "    <tr style=\"text-align: right;\">\n",
              "      <th></th>\n",
              "      <th>loan_id</th>\n",
              "      <th>account_id</th>\n",
              "      <th>date</th>\n",
              "      <th>amount</th>\n",
              "      <th>duration</th>\n",
              "      <th>payments</th>\n",
              "      <th>status</th>\n",
              "    </tr>\n",
              "  </thead>\n",
              "  <tbody>\n",
              "    <tr>\n",
              "      <th>0</th>\n",
              "      <td>5314</td>\n",
              "      <td>1787</td>\n",
              "      <td>930705</td>\n",
              "      <td>96396</td>\n",
              "      <td>12</td>\n",
              "      <td>8033</td>\n",
              "      <td>B</td>\n",
              "    </tr>\n",
              "    <tr>\n",
              "      <th>1</th>\n",
              "      <td>5316</td>\n",
              "      <td>1801</td>\n",
              "      <td>930711</td>\n",
              "      <td>165960</td>\n",
              "      <td>36</td>\n",
              "      <td>4610</td>\n",
              "      <td>A</td>\n",
              "    </tr>\n",
              "    <tr>\n",
              "      <th>2</th>\n",
              "      <td>6863</td>\n",
              "      <td>9188</td>\n",
              "      <td>930728</td>\n",
              "      <td>127080</td>\n",
              "      <td>60</td>\n",
              "      <td>2118</td>\n",
              "      <td>A</td>\n",
              "    </tr>\n",
              "  </tbody>\n",
              "</table>\n",
              "</div>"
            ],
            "text/plain": [
              "   loan_id  account_id    date  amount  duration  payments status\n",
              "0     5314        1787  930705   96396        12      8033      B\n",
              "1     5316        1801  930711  165960        36      4610      A\n",
              "2     6863        9188  930728  127080        60      2118      A"
            ]
          },
          "metadata": {
            "tags": []
          },
          "execution_count": 581
        }
      ]
    },
    {
      "cell_type": "markdown",
      "metadata": {
        "id": "xRw72FRobIV1"
      },
      "source": [
        "# disposition, client 데이터셋 Merge"
      ]
    },
    {
      "cell_type": "code",
      "metadata": {
        "id": "XlRNxMDXnC4G"
      },
      "source": [
        "disp = pd.read_csv(\"/content/dirve/MyDrive/new_disposition.csv\")\n",
        "client = pd.read_csv(\"/content/dirve/MyDrive/new_client.csv\")"
      ],
      "execution_count": 582,
      "outputs": []
    },
    {
      "cell_type": "code",
      "metadata": {
        "colab": {
          "base_uri": "https://localhost:8080/",
          "height": 80
        },
        "id": "m9547Gt1nC4H",
        "outputId": "6bbcee40-61d8-4104-e2aa-fd04daf9ee1a"
      },
      "source": [
        "client.head(1)"
      ],
      "execution_count": 583,
      "outputs": [
        {
          "output_type": "execute_result",
          "data": {
            "text/html": [
              "<div>\n",
              "<style scoped>\n",
              "    .dataframe tbody tr th:only-of-type {\n",
              "        vertical-align: middle;\n",
              "    }\n",
              "\n",
              "    .dataframe tbody tr th {\n",
              "        vertical-align: top;\n",
              "    }\n",
              "\n",
              "    .dataframe thead th {\n",
              "        text-align: right;\n",
              "    }\n",
              "</style>\n",
              "<table border=\"1\" class=\"dataframe\">\n",
              "  <thead>\n",
              "    <tr style=\"text-align: right;\">\n",
              "      <th></th>\n",
              "      <th>Unnamed: 0</th>\n",
              "      <th>client_id</th>\n",
              "      <th>birth_number</th>\n",
              "      <th>district_id</th>\n",
              "      <th>gender</th>\n",
              "      <th>age</th>\n",
              "      <th>age_levels</th>\n",
              "    </tr>\n",
              "  </thead>\n",
              "  <tbody>\n",
              "    <tr>\n",
              "      <th>0</th>\n",
              "      <td>1</td>\n",
              "      <td>1</td>\n",
              "      <td>701213</td>\n",
              "      <td>18</td>\n",
              "      <td>FEMALE</td>\n",
              "      <td>29</td>\n",
              "      <td>ADULT</td>\n",
              "    </tr>\n",
              "  </tbody>\n",
              "</table>\n",
              "</div>"
            ],
            "text/plain": [
              "   Unnamed: 0  client_id  birth_number  district_id  gender  age age_levels\n",
              "0           1          1        701213           18  FEMALE   29      ADULT"
            ]
          },
          "metadata": {
            "tags": []
          },
          "execution_count": 583
        }
      ]
    },
    {
      "cell_type": "code",
      "metadata": {
        "colab": {
          "base_uri": "https://localhost:8080/",
          "height": 80
        },
        "id": "7dW0q2ANnSCT",
        "outputId": "4fe1a1b3-e181-482f-994a-4d7b66807d4e"
      },
      "source": [
        "disp.head(1)"
      ],
      "execution_count": 584,
      "outputs": [
        {
          "output_type": "execute_result",
          "data": {
            "text/html": [
              "<div>\n",
              "<style scoped>\n",
              "    .dataframe tbody tr th:only-of-type {\n",
              "        vertical-align: middle;\n",
              "    }\n",
              "\n",
              "    .dataframe tbody tr th {\n",
              "        vertical-align: top;\n",
              "    }\n",
              "\n",
              "    .dataframe thead th {\n",
              "        text-align: right;\n",
              "    }\n",
              "</style>\n",
              "<table border=\"1\" class=\"dataframe\">\n",
              "  <thead>\n",
              "    <tr style=\"text-align: right;\">\n",
              "      <th></th>\n",
              "      <th>Unnamed: 0</th>\n",
              "      <th>disp_id</th>\n",
              "      <th>client_id</th>\n",
              "      <th>account_id</th>\n",
              "      <th>type</th>\n",
              "    </tr>\n",
              "  </thead>\n",
              "  <tbody>\n",
              "    <tr>\n",
              "      <th>0</th>\n",
              "      <td>1</td>\n",
              "      <td>1</td>\n",
              "      <td>1</td>\n",
              "      <td>1</td>\n",
              "      <td>OWNER</td>\n",
              "    </tr>\n",
              "  </tbody>\n",
              "</table>\n",
              "</div>"
            ],
            "text/plain": [
              "   Unnamed: 0  disp_id  client_id  account_id   type\n",
              "0           1        1          1           1  OWNER"
            ]
          },
          "metadata": {
            "tags": []
          },
          "execution_count": 584
        }
      ]
    },
    {
      "cell_type": "code",
      "metadata": {
        "id": "vPz5I_chnC4H"
      },
      "source": [
        "new = pd.merge(client,disp,how = 'inner',on='client_id')\n",
        "# 본인명의 신용카드 고객\n",
        "new = new[new['type']=='OWNER']\n",
        "new = new.drop(['Unnamed: 0_x','Unnamed: 0_y','client_id','disp_id','type'],axis=1)"
      ],
      "execution_count": 585,
      "outputs": []
    },
    {
      "cell_type": "markdown",
      "metadata": {
        "id": "CN7qLRC2bHZJ"
      },
      "source": [
        "#transaction 데이터 EDA 및 랭글링"
      ]
    },
    {
      "cell_type": "code",
      "metadata": {
        "colab": {
          "base_uri": "https://localhost:8080/"
        },
        "id": "dK3OUTx8CnvT",
        "outputId": "0c98f6b6-3c62-48e7-f441-798faa537c77"
      },
      "source": [
        "# 출금에는 현금(VYBER), 다른 은행으로 송금(PREVOD NA UCET), 신용카드 인출(VYBER KARTOU)\n",
        "trans[trans['type'] == 'VYDAJ']['operation'].unique()"
      ],
      "execution_count": 586,
      "outputs": [
        {
          "output_type": "execute_result",
          "data": {
            "text/plain": [
              "array(['VYBER', 'PREVOD NA UCET', 'VYBER KARTOU'], dtype=object)"
            ]
          },
          "metadata": {
            "tags": []
          },
          "execution_count": 586
        }
      ]
    },
    {
      "cell_type": "code",
      "metadata": {
        "colab": {
          "base_uri": "https://localhost:8080/"
        },
        "id": "0CBJnvCq6cXZ",
        "outputId": "9cd7c160-feb4-4ada-faf1-30bb77833ba8"
      },
      "source": [
        "# 입금에는 현금 입금(VKLAD), 다른 은행에서 입금(PREVOD Z UCTU), 알수 없음\n",
        "trans[trans['type'] == 'PRIJEM']['operation'].unique()"
      ],
      "execution_count": 587,
      "outputs": [
        {
          "output_type": "execute_result",
          "data": {
            "text/plain": [
              "array(['VKLAD', 'PREVOD Z UCTU', nan], dtype=object)"
            ]
          },
          "metadata": {
            "tags": []
          },
          "execution_count": 587
        }
      ]
    },
    {
      "cell_type": "code",
      "metadata": {
        "colab": {
          "base_uri": "https://localhost:8080/",
          "height": 419
        },
        "id": "xwjnWPbmIe7u",
        "outputId": "4d823f6e-f846-47f0-9f82-5e76372b2b6c"
      },
      "source": [
        "# 다른 은행으로 송금할 때만 bank 값 있음\n",
        "trans[trans['operation']=='PREVOD Z UCTU']"
      ],
      "execution_count": 588,
      "outputs": [
        {
          "output_type": "execute_result",
          "data": {
            "text/html": [
              "<div>\n",
              "<style scoped>\n",
              "    .dataframe tbody tr th:only-of-type {\n",
              "        vertical-align: middle;\n",
              "    }\n",
              "\n",
              "    .dataframe tbody tr th {\n",
              "        vertical-align: top;\n",
              "    }\n",
              "\n",
              "    .dataframe thead th {\n",
              "        text-align: right;\n",
              "    }\n",
              "</style>\n",
              "<table border=\"1\" class=\"dataframe\">\n",
              "  <thead>\n",
              "    <tr style=\"text-align: right;\">\n",
              "      <th></th>\n",
              "      <th>trans_id</th>\n",
              "      <th>account_id</th>\n",
              "      <th>date</th>\n",
              "      <th>type</th>\n",
              "      <th>operation</th>\n",
              "      <th>amount</th>\n",
              "      <th>balance</th>\n",
              "      <th>k_symbol</th>\n",
              "      <th>bank</th>\n",
              "      <th>account</th>\n",
              "    </tr>\n",
              "  </thead>\n",
              "  <tbody>\n",
              "    <tr>\n",
              "      <th>15</th>\n",
              "      <td>637742</td>\n",
              "      <td>2177</td>\n",
              "      <td>930105</td>\n",
              "      <td>PRIJEM</td>\n",
              "      <td>PREVOD Z UCTU</td>\n",
              "      <td>5123.0</td>\n",
              "      <td>5923.0</td>\n",
              "      <td>DUCHOD</td>\n",
              "      <td>YZ</td>\n",
              "      <td>62457513.0</td>\n",
              "    </tr>\n",
              "    <tr>\n",
              "      <th>17</th>\n",
              "      <td>232961</td>\n",
              "      <td>793</td>\n",
              "      <td>930105</td>\n",
              "      <td>PRIJEM</td>\n",
              "      <td>PREVOD Z UCTU</td>\n",
              "      <td>3401.0</td>\n",
              "      <td>4201.0</td>\n",
              "      <td>NaN</td>\n",
              "      <td>IJ</td>\n",
              "      <td>6149286.0</td>\n",
              "    </tr>\n",
              "    <tr>\n",
              "      <th>21</th>\n",
              "      <td>542216</td>\n",
              "      <td>1844</td>\n",
              "      <td>930107</td>\n",
              "      <td>PRIJEM</td>\n",
              "      <td>PREVOD Z UCTU</td>\n",
              "      <td>3242.0</td>\n",
              "      <td>3742.0</td>\n",
              "      <td>NaN</td>\n",
              "      <td>ST</td>\n",
              "      <td>42988401.0</td>\n",
              "    </tr>\n",
              "    <tr>\n",
              "      <th>24</th>\n",
              "      <td>579374</td>\n",
              "      <td>1972</td>\n",
              "      <td>930107</td>\n",
              "      <td>PRIJEM</td>\n",
              "      <td>PREVOD Z UCTU</td>\n",
              "      <td>5298.0</td>\n",
              "      <td>5698.0</td>\n",
              "      <td>DUCHOD</td>\n",
              "      <td>UV</td>\n",
              "      <td>14132887.0</td>\n",
              "    </tr>\n",
              "    <tr>\n",
              "      <th>46</th>\n",
              "      <td>1049882</td>\n",
              "      <td>3592</td>\n",
              "      <td>930110</td>\n",
              "      <td>PRIJEM</td>\n",
              "      <td>PREVOD Z UCTU</td>\n",
              "      <td>6007.0</td>\n",
              "      <td>6607.0</td>\n",
              "      <td>DUCHOD</td>\n",
              "      <td>MN</td>\n",
              "      <td>73166322.0</td>\n",
              "    </tr>\n",
              "    <tr>\n",
              "      <th>...</th>\n",
              "      <td>...</td>\n",
              "      <td>...</td>\n",
              "      <td>...</td>\n",
              "      <td>...</td>\n",
              "      <td>...</td>\n",
              "      <td>...</td>\n",
              "      <td>...</td>\n",
              "      <td>...</td>\n",
              "      <td>...</td>\n",
              "      <td>...</td>\n",
              "    </tr>\n",
              "    <tr>\n",
              "      <th>1047119</th>\n",
              "      <td>551866</td>\n",
              "      <td>1879</td>\n",
              "      <td>981214</td>\n",
              "      <td>PRIJEM</td>\n",
              "      <td>PREVOD Z UCTU</td>\n",
              "      <td>3039.0</td>\n",
              "      <td>18013.6</td>\n",
              "      <td>NaN</td>\n",
              "      <td>QR</td>\n",
              "      <td>19752383.0</td>\n",
              "    </tr>\n",
              "    <tr>\n",
              "      <th>1047121</th>\n",
              "      <td>549190</td>\n",
              "      <td>1871</td>\n",
              "      <td>981214</td>\n",
              "      <td>PRIJEM</td>\n",
              "      <td>PREVOD Z UCTU</td>\n",
              "      <td>34552.0</td>\n",
              "      <td>59688.1</td>\n",
              "      <td>NaN</td>\n",
              "      <td>GH</td>\n",
              "      <td>39485311.0</td>\n",
              "    </tr>\n",
              "    <tr>\n",
              "      <th>1047122</th>\n",
              "      <td>546460</td>\n",
              "      <td>1860</td>\n",
              "      <td>981214</td>\n",
              "      <td>PRIJEM</td>\n",
              "      <td>PREVOD Z UCTU</td>\n",
              "      <td>3255.0</td>\n",
              "      <td>20916.3</td>\n",
              "      <td>NaN</td>\n",
              "      <td>MN</td>\n",
              "      <td>61854898.0</td>\n",
              "    </tr>\n",
              "    <tr>\n",
              "      <th>1047127</th>\n",
              "      <td>605757</td>\n",
              "      <td>2062</td>\n",
              "      <td>981214</td>\n",
              "      <td>PRIJEM</td>\n",
              "      <td>PREVOD Z UCTU</td>\n",
              "      <td>64642.0</td>\n",
              "      <td>97552.6</td>\n",
              "      <td>NaN</td>\n",
              "      <td>EF</td>\n",
              "      <td>10179949.0</td>\n",
              "    </tr>\n",
              "    <tr>\n",
              "      <th>1047137</th>\n",
              "      <td>519257</td>\n",
              "      <td>1773</td>\n",
              "      <td>981214</td>\n",
              "      <td>PRIJEM</td>\n",
              "      <td>PREVOD Z UCTU</td>\n",
              "      <td>4316.0</td>\n",
              "      <td>17215.9</td>\n",
              "      <td>DUCHOD</td>\n",
              "      <td>CD</td>\n",
              "      <td>77385341.0</td>\n",
              "    </tr>\n",
              "  </tbody>\n",
              "</table>\n",
              "<p>65226 rows × 10 columns</p>\n",
              "</div>"
            ],
            "text/plain": [
              "         trans_id  account_id    date  ... k_symbol bank     account\n",
              "15         637742        2177  930105  ...   DUCHOD   YZ  62457513.0\n",
              "17         232961         793  930105  ...      NaN   IJ   6149286.0\n",
              "21         542216        1844  930107  ...      NaN   ST  42988401.0\n",
              "24         579374        1972  930107  ...   DUCHOD   UV  14132887.0\n",
              "46        1049882        3592  930110  ...   DUCHOD   MN  73166322.0\n",
              "...           ...         ...     ...  ...      ...  ...         ...\n",
              "1047119    551866        1879  981214  ...      NaN   QR  19752383.0\n",
              "1047121    549190        1871  981214  ...      NaN   GH  39485311.0\n",
              "1047122    546460        1860  981214  ...      NaN   MN  61854898.0\n",
              "1047127    605757        2062  981214  ...      NaN   EF  10179949.0\n",
              "1047137    519257        1773  981214  ...   DUCHOD   CD  77385341.0\n",
              "\n",
              "[65226 rows x 10 columns]"
            ]
          },
          "metadata": {
            "tags": []
          },
          "execution_count": 588
        }
      ]
    },
    {
      "cell_type": "code",
      "metadata": {
        "colab": {
          "base_uri": "https://localhost:8080/"
        },
        "id": "6hFUJJCAMHI1",
        "outputId": "0d5066bc-8586-4b93-d482-bd8bad790876"
      },
      "source": [
        "# 결측치 확인\n",
        "trans.isnull().sum()"
      ],
      "execution_count": 589,
      "outputs": [
        {
          "output_type": "execute_result",
          "data": {
            "text/plain": [
              "trans_id           0\n",
              "account_id         0\n",
              "date               0\n",
              "type               0\n",
              "operation     178663\n",
              "amount             0\n",
              "balance            0\n",
              "k_symbol      478646\n",
              "bank          775067\n",
              "account       753573\n",
              "dtype: int64"
            ]
          },
          "metadata": {
            "tags": []
          },
          "execution_count": 589
        }
      ]
    },
    {
      "cell_type": "code",
      "metadata": {
        "colab": {
          "base_uri": "https://localhost:8080/"
        },
        "id": "xrTmDPRrNy1O",
        "outputId": "d9bf9eb5-80a6-4618-fe35-61e265b25952"
      },
      "source": [
        "# 마지막 데이터 날짜 \n",
        "trans['date'].max()"
      ],
      "execution_count": 590,
      "outputs": [
        {
          "output_type": "execute_result",
          "data": {
            "text/plain": [
              "981219"
            ]
          },
          "metadata": {
            "tags": []
          },
          "execution_count": 590
        }
      ]
    },
    {
      "cell_type": "code",
      "metadata": {
        "id": "lX2POW6lMQDf"
      },
      "source": [
        "# urok일 때만 operation이 null이므로 urok으로 대체\n",
        "trans['operation'] = trans['operation'].fillna('UROK')"
      ],
      "execution_count": 591,
      "outputs": []
    },
    {
      "cell_type": "code",
      "metadata": {
        "id": "9u96Si7fF-DE"
      },
      "source": [
        "d"
      ],
      "execution_count": null,
      "outputs": []
    },
    {
      "cell_type": "markdown",
      "metadata": {
        "id": "fjtliWJodB8e"
      },
      "source": [
        "#랭글링"
      ]
    },
    {
      "cell_type": "code",
      "metadata": {
        "id": "zDLRdKhamkLZ"
      },
      "source": [
        "# 한 계좌를 대표로 조회한 결과 전체 은행을 합친 잔금 표시\n",
        "# 계좌 총 입금 금액\n",
        "# 계좌 총 출금 금액 \n",
        "# 현재 잔금(balance)특성 만들기\n",
        "# 이용 은행 수 \n",
        "# 거래 특성 수 \n",
        "# 입금 횟수, 출금 횟수\n",
        "# trans_id, bank, account drop \n",
        "# bank : 송금한 은행 정보"
      ],
      "execution_count": 592,
      "outputs": []
    },
    {
      "cell_type": "code",
      "metadata": {
        "id": "9aMkJYS78CQe"
      },
      "source": [
        "# 잔고가 마이너스였던 횟수\n",
        "List=[]\n",
        "for i in trans['balance']:\n",
        "  if i < 0:\n",
        "   a = 1 \n",
        "  else:\n",
        "   a = 0 \n",
        "  List.append(a)\n",
        "trans['minus'] = List\n",
        "\n",
        "minus = pd.DataFrame(trans.groupby('account_id')['minus'].sum(),columns=['minus'])"
      ],
      "execution_count": 593,
      "outputs": []
    },
    {
      "cell_type": "code",
      "metadata": {
        "id": "WZv-aDf6Yyuk"
      },
      "source": [
        "#총입금거래액\n",
        "pr = trans[trans['type'] == 'PRIJEM']\n",
        "pr = pd.DataFrame(pr.groupby('account_id')['amount'].sum())\n",
        "pr.columns = ['credit amount']"
      ],
      "execution_count": 594,
      "outputs": []
    },
    {
      "cell_type": "code",
      "metadata": {
        "id": "CYJaqPLPZzKd"
      },
      "source": [
        "#총출금거래액\n",
        "vy = trans[trans['type'] == 'VYDAJ']\n",
        "vy = pd.DataFrame(vy.groupby('account_id')['amount'].sum())\n",
        "vy.columns = ['debit amount']"
      ],
      "execution_count": 595,
      "outputs": []
    },
    {
      "cell_type": "code",
      "metadata": {
        "id": "V17EA2ZhO6Uk"
      },
      "source": [
        "#금융거래횟수\n",
        "trans_count = pd.DataFrame(trans.groupby('account_id')['trans_id'].count())\n",
        "trans_count.columns = ['trans_count']"
      ],
      "execution_count": 596,
      "outputs": []
    },
    {
      "cell_type": "code",
      "metadata": {
        "id": "ZqFRxIIj-TLN"
      },
      "source": [
        "# 0으로 빈 값 채운 후 계산\n",
        "trans['bank'] = trans['bank'].fillna(0)"
      ],
      "execution_count": 597,
      "outputs": []
    },
    {
      "cell_type": "code",
      "metadata": {
        "id": "1-QAbKTl_knJ"
      },
      "source": [
        "# 현재 잔고 \n",
        "balance = pd.DataFrame(trans.groupby('account_id')['balance'].last())\n",
        "balance.columns = ['last_balance']"
      ],
      "execution_count": 598,
      "outputs": []
    },
    {
      "cell_type": "code",
      "metadata": {
        "id": "cT01jxn7A6Qn"
      },
      "source": [
        "# k_symbol 원핫인코딩 후 각 거래특성 별 이용횟수 구하기\n",
        "sym = pd.get_dummies(trans['k_symbol'])\n",
        "trans = pd.concat([trans,sym],axis=1)"
      ],
      "execution_count": 599,
      "outputs": []
    },
    {
      "cell_type": "code",
      "metadata": {
        "colab": {
          "base_uri": "https://localhost:8080/",
          "height": 80
        },
        "id": "iQwIiGRYePXt",
        "outputId": "1d68a626-8096-49b9-ce2d-32c14a2768c0"
      },
      "source": [
        "trans.head(1)"
      ],
      "execution_count": 600,
      "outputs": [
        {
          "output_type": "execute_result",
          "data": {
            "text/html": [
              "<div>\n",
              "<style scoped>\n",
              "    .dataframe tbody tr th:only-of-type {\n",
              "        vertical-align: middle;\n",
              "    }\n",
              "\n",
              "    .dataframe tbody tr th {\n",
              "        vertical-align: top;\n",
              "    }\n",
              "\n",
              "    .dataframe thead th {\n",
              "        text-align: right;\n",
              "    }\n",
              "</style>\n",
              "<table border=\"1\" class=\"dataframe\">\n",
              "  <thead>\n",
              "    <tr style=\"text-align: right;\">\n",
              "      <th></th>\n",
              "      <th>trans_id</th>\n",
              "      <th>account_id</th>\n",
              "      <th>date</th>\n",
              "      <th>type</th>\n",
              "      <th>operation</th>\n",
              "      <th>amount</th>\n",
              "      <th>balance</th>\n",
              "      <th>k_symbol</th>\n",
              "      <th>bank</th>\n",
              "      <th>account</th>\n",
              "      <th>minus</th>\n",
              "      <th></th>\n",
              "      <th>DUCHOD</th>\n",
              "      <th>POJISTNE</th>\n",
              "      <th>SANKC. UROK</th>\n",
              "      <th>SIPO</th>\n",
              "      <th>SLUZBY</th>\n",
              "      <th>UROK</th>\n",
              "      <th>UVER</th>\n",
              "    </tr>\n",
              "  </thead>\n",
              "  <tbody>\n",
              "    <tr>\n",
              "      <th>0</th>\n",
              "      <td>695247</td>\n",
              "      <td>2378</td>\n",
              "      <td>930101</td>\n",
              "      <td>PRIJEM</td>\n",
              "      <td>VKLAD</td>\n",
              "      <td>700.0</td>\n",
              "      <td>700.0</td>\n",
              "      <td>NaN</td>\n",
              "      <td>0</td>\n",
              "      <td>NaN</td>\n",
              "      <td>0</td>\n",
              "      <td>0</td>\n",
              "      <td>0</td>\n",
              "      <td>0</td>\n",
              "      <td>0</td>\n",
              "      <td>0</td>\n",
              "      <td>0</td>\n",
              "      <td>0</td>\n",
              "      <td>0</td>\n",
              "    </tr>\n",
              "  </tbody>\n",
              "</table>\n",
              "</div>"
            ],
            "text/plain": [
              "   trans_id  account_id    date    type  ... SIPO  SLUZBY  UROK UVER\n",
              "0    695247        2378  930101  PRIJEM  ...    0       0     0    0\n",
              "\n",
              "[1 rows x 19 columns]"
            ]
          },
          "metadata": {
            "tags": []
          },
          "execution_count": 600
        }
      ]
    },
    {
      "cell_type": "code",
      "metadata": {
        "id": "E6S9fpwwXBFh"
      },
      "source": [
        "# 마이너스 잔액 이자 지불 횟수\n",
        "min_inter = pd.DataFrame(trans.groupby('account_id')['SANKC. UROK'].sum())\n",
        "min_inter.columns = ['min_inter']"
      ],
      "execution_count": 601,
      "outputs": []
    },
    {
      "cell_type": "code",
      "metadata": {
        "id": "iS0BULWGDj4n"
      },
      "source": [
        "# 대출 결제 횟수 \n",
        "uver = pd.DataFrame(trans.groupby('account_id')['UVER'].sum())\n",
        "uver.columns = ['uver']"
      ],
      "execution_count": 602,
      "outputs": []
    },
    {
      "cell_type": "code",
      "metadata": {
        "id": "ySB1SnMlBskn"
      },
      "source": [
        "# 이용할 칼럼만 빼고 나머지 drop\n",
        "trans = trans.drop(['DUCHOD','SLUZBY','POJISTNE','SIPO','UROK'],axis=1)"
      ],
      "execution_count": 603,
      "outputs": []
    },
    {
      "cell_type": "code",
      "metadata": {
        "id": "St_RzLmnXM-E"
      },
      "source": [
        "operation = pd.get_dummies(trans['operation'])\n",
        "trans = pd.concat([trans,operation],axis=1)\n",
        "trans = trans.drop(['operation'],axis=1)"
      ],
      "execution_count": 604,
      "outputs": []
    },
    {
      "cell_type": "code",
      "metadata": {
        "colab": {
          "base_uri": "https://localhost:8080/"
        },
        "id": "yN40A17OEajX",
        "outputId": "e4be6662-9b3c-44f4-cc3e-e8cf6db6fc45"
      },
      "source": [
        "# 다른 은행으로 출금, 다른 은행에서 입금, 현금 입금, , 현금출금, 신용카드 출금의 거래 횟수 \n",
        "type = pd.DataFrame(trans.groupby('account_id')['PREVOD NA UCET',\t'PREVOD Z UCTU',\t'VKLAD',\t'VYBER',\t'VYBER KARTOU'].sum())"
      ],
      "execution_count": 605,
      "outputs": [
        {
          "output_type": "stream",
          "text": [
            "/usr/local/lib/python3.7/dist-packages/ipykernel_launcher.py:2: FutureWarning: Indexing with multiple keys (implicitly converted to a tuple of keys) will be deprecated, use a list instead.\n",
            "  \n"
          ],
          "name": "stderr"
        }
      ]
    },
    {
      "cell_type": "code",
      "metadata": {
        "id": "snk4Dj6Xf8FV"
      },
      "source": [
        "date = pd.DataFrame(trans.groupby('account_id')['date'].apply(sorted))\n",
        "\n",
        "# 리스트의 [0]는 첫 이용일, 리스트의 [-1]은 마지막 이용일\n",
        "first =[]\n",
        "end = []\n",
        "for i in date['date']:\n",
        "  a = i[0]\n",
        "  b = i[-1]\n",
        "  first.append(a)\n",
        "  end.append(b)"
      ],
      "execution_count": 606,
      "outputs": []
    },
    {
      "cell_type": "code",
      "metadata": {
        "colab": {
          "base_uri": "https://localhost:8080/",
          "height": 111
        },
        "id": "QA4e4NdefSPo",
        "outputId": "2f421545-905b-43d9-d1ae-acf1bffad874"
      },
      "source": [
        "# 새로운 date 데이터프레임 형성\n",
        "first_date = pd.DataFrame(first,columns=['first_date'], index=date.index)\n",
        "end_date = pd.DataFrame(end,columns=['end_date'], index=date.index)\n",
        "date = first_date.join(end_date)\n",
        "\n",
        "date['end_date'] = pd.to_datetime(date['end_date'].astype(str),format='%y%m%d')\n",
        "date['first_date'] = pd.to_datetime(date['first_date'].astype(str),format='%y%m%d')\n",
        "date['period'] = date['end_date']-date['first_date']\n",
        "date['period'] = date['period'].dt.days\n",
        "\n",
        "date['today'] = pd.to_datetime(981219,format='%y%m%d')\n",
        "date['unused'] = (date['today'] - date['end_date']).dt.days\n",
        "\n",
        "#  이용기간, 이용하지 않은 기간 추출\n",
        "date =date.drop(['first_date','end_date','today'],axis=1)\n",
        "date.head(1)"
      ],
      "execution_count": 607,
      "outputs": [
        {
          "output_type": "execute_result",
          "data": {
            "text/html": [
              "<div>\n",
              "<style scoped>\n",
              "    .dataframe tbody tr th:only-of-type {\n",
              "        vertical-align: middle;\n",
              "    }\n",
              "\n",
              "    .dataframe tbody tr th {\n",
              "        vertical-align: top;\n",
              "    }\n",
              "\n",
              "    .dataframe thead th {\n",
              "        text-align: right;\n",
              "    }\n",
              "</style>\n",
              "<table border=\"1\" class=\"dataframe\">\n",
              "  <thead>\n",
              "    <tr style=\"text-align: right;\">\n",
              "      <th></th>\n",
              "      <th>period</th>\n",
              "      <th>unused</th>\n",
              "    </tr>\n",
              "    <tr>\n",
              "      <th>account_id</th>\n",
              "      <th></th>\n",
              "      <th></th>\n",
              "    </tr>\n",
              "  </thead>\n",
              "  <tbody>\n",
              "    <tr>\n",
              "      <th>1</th>\n",
              "      <td>1360</td>\n",
              "      <td>6</td>\n",
              "    </tr>\n",
              "  </tbody>\n",
              "</table>\n",
              "</div>"
            ],
            "text/plain": [
              "            period  unused\n",
              "account_id                \n",
              "1             1360       6"
            ]
          },
          "metadata": {
            "tags": []
          },
          "execution_count": 607
        }
      ]
    },
    {
      "cell_type": "code",
      "metadata": {
        "id": "8ZWfTt4Au71L"
      },
      "source": [
        "wrang = pr.join([vy,minus,trans_count,balance,min_inter,uver,type,date])"
      ],
      "execution_count": 608,
      "outputs": []
    },
    {
      "cell_type": "code",
      "metadata": {
        "id": "euA_lQss7wA4"
      },
      "source": [
        "# 거래한 은행 수 \n",
        "bank = trans.groupby('account_id')['bank'].unique()\n",
        "List=[]\n",
        "for i in bank:\n",
        "  if 0 in i:\n",
        "    a = len(i) - 1\n",
        "  else:\n",
        "    a = len(i)\n",
        "  List.append(a)\n",
        "wrang['use_bank'] = List"
      ],
      "execution_count": 609,
      "outputs": []
    },
    {
      "cell_type": "code",
      "metadata": {
        "id": "T6ue6Hupgroe"
      },
      "source": [
        "#new index를 account_id로 변경 : join위해\n",
        "new.index = new['account_id']\n",
        "new = new.drop(['account_id'], axis=1)\n",
        "new2 = new.join([wrang])"
      ],
      "execution_count": 610,
      "outputs": []
    },
    {
      "cell_type": "code",
      "metadata": {
        "colab": {
          "base_uri": "https://localhost:8080/",
          "height": 323
        },
        "id": "En5iq6vEjPhi",
        "outputId": "3a1efbee-e4db-4151-fafe-19878c44b0d6"
      },
      "source": [
        "new2.head()"
      ],
      "execution_count": 611,
      "outputs": [
        {
          "output_type": "execute_result",
          "data": {
            "text/html": [
              "<div>\n",
              "<style scoped>\n",
              "    .dataframe tbody tr th:only-of-type {\n",
              "        vertical-align: middle;\n",
              "    }\n",
              "\n",
              "    .dataframe tbody tr th {\n",
              "        vertical-align: top;\n",
              "    }\n",
              "\n",
              "    .dataframe thead th {\n",
              "        text-align: right;\n",
              "    }\n",
              "</style>\n",
              "<table border=\"1\" class=\"dataframe\">\n",
              "  <thead>\n",
              "    <tr style=\"text-align: right;\">\n",
              "      <th></th>\n",
              "      <th>birth_number</th>\n",
              "      <th>district_id</th>\n",
              "      <th>gender</th>\n",
              "      <th>age</th>\n",
              "      <th>age_levels</th>\n",
              "      <th>credit amount</th>\n",
              "      <th>debit amount</th>\n",
              "      <th>minus</th>\n",
              "      <th>trans_count</th>\n",
              "      <th>last_balance</th>\n",
              "      <th>min_inter</th>\n",
              "      <th>uver</th>\n",
              "      <th>PREVOD NA UCET</th>\n",
              "      <th>PREVOD Z UCTU</th>\n",
              "      <th>VKLAD</th>\n",
              "      <th>VYBER</th>\n",
              "      <th>VYBER KARTOU</th>\n",
              "      <th>period</th>\n",
              "      <th>unused</th>\n",
              "      <th>use_bank</th>\n",
              "    </tr>\n",
              "    <tr>\n",
              "      <th>account_id</th>\n",
              "      <th></th>\n",
              "      <th></th>\n",
              "      <th></th>\n",
              "      <th></th>\n",
              "      <th></th>\n",
              "      <th></th>\n",
              "      <th></th>\n",
              "      <th></th>\n",
              "      <th></th>\n",
              "      <th></th>\n",
              "      <th></th>\n",
              "      <th></th>\n",
              "      <th></th>\n",
              "      <th></th>\n",
              "      <th></th>\n",
              "      <th></th>\n",
              "      <th></th>\n",
              "      <th></th>\n",
              "      <th></th>\n",
              "      <th></th>\n",
              "    </tr>\n",
              "  </thead>\n",
              "  <tbody>\n",
              "    <tr>\n",
              "      <th>1</th>\n",
              "      <td>701213</td>\n",
              "      <td>18</td>\n",
              "      <td>FEMALE</td>\n",
              "      <td>29</td>\n",
              "      <td>ADULT</td>\n",
              "      <td>194267.9</td>\n",
              "      <td>180854.0</td>\n",
              "      <td>0</td>\n",
              "      <td>238</td>\n",
              "      <td>13413.9</td>\n",
              "      <td>0</td>\n",
              "      <td>0</td>\n",
              "      <td>40.0</td>\n",
              "      <td>45.0</td>\n",
              "      <td>12.0</td>\n",
              "      <td>97.0</td>\n",
              "      <td>0.0</td>\n",
              "      <td>1360</td>\n",
              "      <td>6</td>\n",
              "      <td>2</td>\n",
              "    </tr>\n",
              "    <tr>\n",
              "      <th>2</th>\n",
              "      <td>450204</td>\n",
              "      <td>1</td>\n",
              "      <td>MALE</td>\n",
              "      <td>54</td>\n",
              "      <td>MIDDLE AGED</td>\n",
              "      <td>1596896.8</td>\n",
              "      <td>1336983.8</td>\n",
              "      <td>0</td>\n",
              "      <td>477</td>\n",
              "      <td>42471.3</td>\n",
              "      <td>0</td>\n",
              "      <td>24</td>\n",
              "      <td>89.0</td>\n",
              "      <td>70.0</td>\n",
              "      <td>12.0</td>\n",
              "      <td>237.0</td>\n",
              "      <td>0.0</td>\n",
              "      <td>2120</td>\n",
              "      <td>2</td>\n",
              "      <td>2</td>\n",
              "    </tr>\n",
              "    <tr>\n",
              "      <th>3</th>\n",
              "      <td>561201</td>\n",
              "      <td>5</td>\n",
              "      <td>MALE</td>\n",
              "      <td>43</td>\n",
              "      <td>MIDDLE AGED</td>\n",
              "      <td>172849.4</td>\n",
              "      <td>119402.8</td>\n",
              "      <td>0</td>\n",
              "      <td>115</td>\n",
              "      <td>53446.5</td>\n",
              "      <td>0</td>\n",
              "      <td>0</td>\n",
              "      <td>39.0</td>\n",
              "      <td>0.0</td>\n",
              "      <td>28.0</td>\n",
              "      <td>31.0</td>\n",
              "      <td>0.0</td>\n",
              "      <td>522</td>\n",
              "      <td>8</td>\n",
              "      <td>3</td>\n",
              "    </tr>\n",
              "    <tr>\n",
              "      <th>4</th>\n",
              "      <td>190922</td>\n",
              "      <td>12</td>\n",
              "      <td>MALE</td>\n",
              "      <td>80</td>\n",
              "      <td>SENIOR</td>\n",
              "      <td>192210.3</td>\n",
              "      <td>158625.4</td>\n",
              "      <td>0</td>\n",
              "      <td>185</td>\n",
              "      <td>33585.0</td>\n",
              "      <td>0</td>\n",
              "      <td>0</td>\n",
              "      <td>59.0</td>\n",
              "      <td>34.0</td>\n",
              "      <td>1.0</td>\n",
              "      <td>62.0</td>\n",
              "      <td>0.0</td>\n",
              "      <td>1026</td>\n",
              "      <td>6</td>\n",
              "      <td>1</td>\n",
              "    </tr>\n",
              "    <tr>\n",
              "      <th>5</th>\n",
              "      <td>290125</td>\n",
              "      <td>15</td>\n",
              "      <td>MALE</td>\n",
              "      <td>70</td>\n",
              "      <td>SENIOR</td>\n",
              "      <td>97362.9</td>\n",
              "      <td>68446.4</td>\n",
              "      <td>0</td>\n",
              "      <td>81</td>\n",
              "      <td>28916.2</td>\n",
              "      <td>0</td>\n",
              "      <td>0</td>\n",
              "      <td>14.0</td>\n",
              "      <td>19.0</td>\n",
              "      <td>1.0</td>\n",
              "      <td>33.0</td>\n",
              "      <td>0.0</td>\n",
              "      <td>567</td>\n",
              "      <td>1</td>\n",
              "      <td>2</td>\n",
              "    </tr>\n",
              "  </tbody>\n",
              "</table>\n",
              "</div>"
            ],
            "text/plain": [
              "            birth_number  district_id  gender  ...  period unused  use_bank\n",
              "account_id                                     ...                         \n",
              "1                 701213           18  FEMALE  ...    1360      6         2\n",
              "2                 450204            1    MALE  ...    2120      2         2\n",
              "3                 561201            5    MALE  ...     522      8         3\n",
              "4                 190922           12    MALE  ...    1026      6         1\n",
              "5                 290125           15    MALE  ...     567      1         2\n",
              "\n",
              "[5 rows x 20 columns]"
            ]
          },
          "metadata": {
            "tags": []
          },
          "execution_count": 611
        }
      ]
    },
    {
      "cell_type": "code",
      "metadata": {
        "id": "DSg4X4_rjnfL"
      },
      "source": [
        "loan = loan[['account_id','status']]"
      ],
      "execution_count": 612,
      "outputs": []
    },
    {
      "cell_type": "code",
      "metadata": {
        "id": "tCd9xAjTiIEx"
      },
      "source": [
        "final = pd.merge(new2,loan,how = 'outer',on = 'account_id')\n",
        "final.index = final['account_id']\n",
        "final = final.drop(['account_id','birth_number'],axis=1)"
      ],
      "execution_count": 613,
      "outputs": []
    },
    {
      "cell_type": "code",
      "metadata": {
        "colab": {
          "base_uri": "https://localhost:8080/",
          "height": 323
        },
        "id": "aeRGd5gkmmFb",
        "outputId": "b1edcf4f-8485-410d-c7a8-2a8a8fbe9278"
      },
      "source": [
        "final.head()"
      ],
      "execution_count": 614,
      "outputs": [
        {
          "output_type": "execute_result",
          "data": {
            "text/html": [
              "<div>\n",
              "<style scoped>\n",
              "    .dataframe tbody tr th:only-of-type {\n",
              "        vertical-align: middle;\n",
              "    }\n",
              "\n",
              "    .dataframe tbody tr th {\n",
              "        vertical-align: top;\n",
              "    }\n",
              "\n",
              "    .dataframe thead th {\n",
              "        text-align: right;\n",
              "    }\n",
              "</style>\n",
              "<table border=\"1\" class=\"dataframe\">\n",
              "  <thead>\n",
              "    <tr style=\"text-align: right;\">\n",
              "      <th></th>\n",
              "      <th>district_id</th>\n",
              "      <th>gender</th>\n",
              "      <th>age</th>\n",
              "      <th>age_levels</th>\n",
              "      <th>credit amount</th>\n",
              "      <th>debit amount</th>\n",
              "      <th>minus</th>\n",
              "      <th>trans_count</th>\n",
              "      <th>last_balance</th>\n",
              "      <th>min_inter</th>\n",
              "      <th>uver</th>\n",
              "      <th>PREVOD NA UCET</th>\n",
              "      <th>PREVOD Z UCTU</th>\n",
              "      <th>VKLAD</th>\n",
              "      <th>VYBER</th>\n",
              "      <th>VYBER KARTOU</th>\n",
              "      <th>period</th>\n",
              "      <th>unused</th>\n",
              "      <th>use_bank</th>\n",
              "      <th>status</th>\n",
              "    </tr>\n",
              "    <tr>\n",
              "      <th>account_id</th>\n",
              "      <th></th>\n",
              "      <th></th>\n",
              "      <th></th>\n",
              "      <th></th>\n",
              "      <th></th>\n",
              "      <th></th>\n",
              "      <th></th>\n",
              "      <th></th>\n",
              "      <th></th>\n",
              "      <th></th>\n",
              "      <th></th>\n",
              "      <th></th>\n",
              "      <th></th>\n",
              "      <th></th>\n",
              "      <th></th>\n",
              "      <th></th>\n",
              "      <th></th>\n",
              "      <th></th>\n",
              "      <th></th>\n",
              "      <th></th>\n",
              "    </tr>\n",
              "  </thead>\n",
              "  <tbody>\n",
              "    <tr>\n",
              "      <th>1</th>\n",
              "      <td>18</td>\n",
              "      <td>FEMALE</td>\n",
              "      <td>29</td>\n",
              "      <td>ADULT</td>\n",
              "      <td>194267.9</td>\n",
              "      <td>180854.0</td>\n",
              "      <td>0</td>\n",
              "      <td>238</td>\n",
              "      <td>13413.9</td>\n",
              "      <td>0</td>\n",
              "      <td>0</td>\n",
              "      <td>40.0</td>\n",
              "      <td>45.0</td>\n",
              "      <td>12.0</td>\n",
              "      <td>97.0</td>\n",
              "      <td>0.0</td>\n",
              "      <td>1360</td>\n",
              "      <td>6</td>\n",
              "      <td>2</td>\n",
              "      <td>NaN</td>\n",
              "    </tr>\n",
              "    <tr>\n",
              "      <th>2</th>\n",
              "      <td>1</td>\n",
              "      <td>MALE</td>\n",
              "      <td>54</td>\n",
              "      <td>MIDDLE AGED</td>\n",
              "      <td>1596896.8</td>\n",
              "      <td>1336983.8</td>\n",
              "      <td>0</td>\n",
              "      <td>477</td>\n",
              "      <td>42471.3</td>\n",
              "      <td>0</td>\n",
              "      <td>24</td>\n",
              "      <td>89.0</td>\n",
              "      <td>70.0</td>\n",
              "      <td>12.0</td>\n",
              "      <td>237.0</td>\n",
              "      <td>0.0</td>\n",
              "      <td>2120</td>\n",
              "      <td>2</td>\n",
              "      <td>2</td>\n",
              "      <td>A</td>\n",
              "    </tr>\n",
              "    <tr>\n",
              "      <th>3</th>\n",
              "      <td>5</td>\n",
              "      <td>MALE</td>\n",
              "      <td>43</td>\n",
              "      <td>MIDDLE AGED</td>\n",
              "      <td>172849.4</td>\n",
              "      <td>119402.8</td>\n",
              "      <td>0</td>\n",
              "      <td>115</td>\n",
              "      <td>53446.5</td>\n",
              "      <td>0</td>\n",
              "      <td>0</td>\n",
              "      <td>39.0</td>\n",
              "      <td>0.0</td>\n",
              "      <td>28.0</td>\n",
              "      <td>31.0</td>\n",
              "      <td>0.0</td>\n",
              "      <td>522</td>\n",
              "      <td>8</td>\n",
              "      <td>3</td>\n",
              "      <td>NaN</td>\n",
              "    </tr>\n",
              "    <tr>\n",
              "      <th>4</th>\n",
              "      <td>12</td>\n",
              "      <td>MALE</td>\n",
              "      <td>80</td>\n",
              "      <td>SENIOR</td>\n",
              "      <td>192210.3</td>\n",
              "      <td>158625.4</td>\n",
              "      <td>0</td>\n",
              "      <td>185</td>\n",
              "      <td>33585.0</td>\n",
              "      <td>0</td>\n",
              "      <td>0</td>\n",
              "      <td>59.0</td>\n",
              "      <td>34.0</td>\n",
              "      <td>1.0</td>\n",
              "      <td>62.0</td>\n",
              "      <td>0.0</td>\n",
              "      <td>1026</td>\n",
              "      <td>6</td>\n",
              "      <td>1</td>\n",
              "      <td>NaN</td>\n",
              "    </tr>\n",
              "    <tr>\n",
              "      <th>5</th>\n",
              "      <td>15</td>\n",
              "      <td>MALE</td>\n",
              "      <td>70</td>\n",
              "      <td>SENIOR</td>\n",
              "      <td>97362.9</td>\n",
              "      <td>68446.4</td>\n",
              "      <td>0</td>\n",
              "      <td>81</td>\n",
              "      <td>28916.2</td>\n",
              "      <td>0</td>\n",
              "      <td>0</td>\n",
              "      <td>14.0</td>\n",
              "      <td>19.0</td>\n",
              "      <td>1.0</td>\n",
              "      <td>33.0</td>\n",
              "      <td>0.0</td>\n",
              "      <td>567</td>\n",
              "      <td>1</td>\n",
              "      <td>2</td>\n",
              "      <td>NaN</td>\n",
              "    </tr>\n",
              "  </tbody>\n",
              "</table>\n",
              "</div>"
            ],
            "text/plain": [
              "            district_id  gender  age  ... unused  use_bank  status\n",
              "account_id                            ...                         \n",
              "1                    18  FEMALE   29  ...      6         2     NaN\n",
              "2                     1    MALE   54  ...      2         2       A\n",
              "3                     5    MALE   43  ...      8         3     NaN\n",
              "4                    12    MALE   80  ...      6         1     NaN\n",
              "5                    15    MALE   70  ...      1         2     NaN\n",
              "\n",
              "[5 rows x 20 columns]"
            ]
          },
          "metadata": {
            "tags": []
          },
          "execution_count": 614
        }
      ]
    },
    {
      "cell_type": "markdown",
      "metadata": {
        "id": "zNpGNSYNn2xh"
      },
      "source": [
        "# 타겟 생성"
      ]
    },
    {
      "cell_type": "code",
      "metadata": {
        "id": "lEwBZQLln2PL"
      },
      "source": [
        "# 1. 대출 거래 시 상태 A\n",
        "\n",
        "#2. (balnce 금액 상위 25%)  \n",
        "\n",
        "#and (잔금 minus 횟수  = 0) \n",
        "\n",
        "#and (SANKC. UROK횟수 =0)\n",
        "\n",
        "#and (이용횟수 상위 25%)\n",
        "\n",
        "#and 마지막 거래 한 달 이내 \n"
      ],
      "execution_count": 615,
      "outputs": []
    },
    {
      "cell_type": "code",
      "metadata": {
        "id": "CTYKDhnFpH_t"
      },
      "source": [
        "final['grade'] = 0"
      ],
      "execution_count": 616,
      "outputs": []
    },
    {
      "cell_type": "code",
      "metadata": {
        "colab": {
          "base_uri": "https://localhost:8080/"
        },
        "id": "0f_Anotovuq0",
        "outputId": "397dd300-cf18-4ea9-84b3-234de0c481d9"
      },
      "source": [
        "365*7"
      ],
      "execution_count": 617,
      "outputs": [
        {
          "output_type": "execute_result",
          "data": {
            "text/plain": [
              "2555"
            ]
          },
          "metadata": {
            "tags": []
          },
          "execution_count": 617
        }
      ]
    },
    {
      "cell_type": "markdown",
      "metadata": {
        "id": "hr6HFWeLywSb"
      },
      "source": [
        "# TARGET : A(우수고객)"
      ]
    },
    {
      "cell_type": "code",
      "metadata": {
        "id": "3e7zzcINyhpJ"
      },
      "source": [
        "# 대출 거래시 상태 A -- 신용카드 고객 중 대출 거래는 일부 고객만 함\n",
        "final.loc[final['status'] == 'A','grade'] = '1'"
      ],
      "execution_count": 618,
      "outputs": []
    },
    {
      "cell_type": "code",
      "metadata": {
        "id": "2AZbL2c_r4m2"
      },
      "source": [
        "import numpy as np\n",
        "# 상위 5퍼의 데이터 추출\n",
        "def percent95(data,col):\n",
        "  up = np.percentile(data[col], 0.95)\n",
        "  return up\n",
        "\n",
        "\n",
        "# 은행마다 신용평가 모델이 다르며 자체적으로 기준을 두고 모델을 만듬 \n",
        "# 내가 적당하다고 생각하는 기준으로 정함\n",
        "# 이용횟수 상위 25% & 마이너스 이자 0 & 잔금 마이너스 횟수 0 & 이용기간 2년이상 & 마지막 거래가 한달 이내 \n",
        "final.loc[(final['trans_count'] >= percent95(final,'trans_count'))& (final['min_inter'] == 0) & (final['minus'] == 0)&(final['period']>2555)& (final['unused'] < 30),'grade'] = '1'"
      ],
      "execution_count": 619,
      "outputs": []
    },
    {
      "cell_type": "code",
      "metadata": {
        "colab": {
          "base_uri": "https://localhost:8080/"
        },
        "id": "C_zW2Z2w5Weu",
        "outputId": "0cfd2654-c933-4198-edaf-1e822927feba"
      },
      "source": [
        "final['grade'].value_counts()"
      ],
      "execution_count": 620,
      "outputs": [
        {
          "output_type": "execute_result",
          "data": {
            "text/plain": [
              "0    4297\n",
              "1     203\n",
              "Name: grade, dtype: int64"
            ]
          },
          "metadata": {
            "tags": []
          },
          "execution_count": 620
        }
      ]
    },
    {
      "cell_type": "markdown",
      "metadata": {
        "id": "tQQrAqBAy3yH"
      },
      "source": [
        "# TARGET : C(위험고객)"
      ]
    },
    {
      "cell_type": "code",
      "metadata": {
        "colab": {
          "base_uri": "https://localhost:8080/"
        },
        "id": "WHrTLiBA0Axb",
        "outputId": "edbc71cf-da3f-4990-ef01-935e42e582f8"
      },
      "source": [
        "(final['last_balance']).sum()"
      ],
      "execution_count": 621,
      "outputs": [
        {
          "output_type": "execute_result",
          "data": {
            "text/plain": [
              "204002828.8"
            ]
          },
          "metadata": {
            "tags": []
          },
          "execution_count": 621
        }
      ]
    },
    {
      "cell_type": "code",
      "metadata": {
        "colab": {
          "base_uri": "https://localhost:8080/"
        },
        "id": "HUJqykaJ04Hi",
        "outputId": "0f0257be-580a-41ab-8265-19a6d1465052"
      },
      "source": [
        "final['last_balance'].max()"
      ],
      "execution_count": 622,
      "outputs": [
        {
          "output_type": "execute_result",
          "data": {
            "text/plain": [
              "155592.5"
            ]
          },
          "metadata": {
            "tags": []
          },
          "execution_count": 622
        }
      ]
    },
    {
      "cell_type": "code",
      "metadata": {
        "colab": {
          "base_uri": "https://localhost:8080/"
        },
        "id": "7NX3RWQyz5ho",
        "outputId": "df602310-83cd-48e4-c3d7-da53fc5ee8e8"
      },
      "source": [
        " np.percentile(final['last_balance'], 1)"
      ],
      "execution_count": 623,
      "outputs": [
        {
          "output_type": "execute_result",
          "data": {
            "text/plain": [
              "2261.5910000000003"
            ]
          },
          "metadata": {
            "tags": []
          },
          "execution_count": 623
        }
      ]
    },
    {
      "cell_type": "code",
      "metadata": {
        "id": "R8-DKF8_parF"
      },
      "source": [
        "# 대출 거래 시 상태 B -- 계약이 완료됐으나 미납 중인 고객 (위험 확률 크다고 판단)\n",
        "final.loc[final['status'] == 'B','grade'] = '3'\n"
      ],
      "execution_count": 624,
      "outputs": []
    },
    {
      "cell_type": "code",
      "metadata": {
        "id": "B33RAazNyIAc"
      },
      "source": [
        "# 하위 10% 데이터 추출\n",
        "def percent5(data,col):\n",
        "  down = np.percentile(data[col], 10)\n",
        "  return down\n",
        "# 잔금 하위 10% & (마이너스 잔고 이자거래 횟수 1번이상 이거나 마이너스 잔고 횟수 1번 이상)\n",
        "final.loc[(final['last_balance'] < percent5(final,'last_balance'))& ((final['min_inter'] > 0) | (final['minus'] > 0))] = '3'"
      ],
      "execution_count": 625,
      "outputs": []
    },
    {
      "cell_type": "markdown",
      "metadata": {
        "id": "7zQverFh4oM5"
      },
      "source": [
        "# TARGET :B(일반고객)"
      ]
    },
    {
      "cell_type": "code",
      "metadata": {
        "id": "D78FVyPk2hSp"
      },
      "source": [
        "# 그 이외는 일반고객\n",
        "final.loc[final['grade'] == 0,'grade'] = '2'"
      ],
      "execution_count": 626,
      "outputs": []
    },
    {
      "cell_type": "code",
      "metadata": {
        "colab": {
          "base_uri": "https://localhost:8080/"
        },
        "id": "beK6FC8h42SG",
        "outputId": "772ff87e-a1d7-4b2b-bfdb-e2cd4b579ba1"
      },
      "source": [
        "import seaborn as sns\n",
        "target = final['grade']\n",
        "target.value_counts()\n"
      ],
      "execution_count": 627,
      "outputs": [
        {
          "output_type": "execute_result",
          "data": {
            "text/plain": [
              "2    4174\n",
              "1     203\n",
              "3     123\n",
              "Name: grade, dtype: int64"
            ]
          },
          "metadata": {
            "tags": []
          },
          "execution_count": 627
        }
      ]
    },
    {
      "cell_type": "code",
      "metadata": {
        "colab": {
          "base_uri": "https://localhost:8080/"
        },
        "id": "vGpzKHaI-k6-",
        "outputId": "ff943959-2d31-4423-a9b9-cb08eff83a88"
      },
      "source": [
        "!pip install category_encoders "
      ],
      "execution_count": 628,
      "outputs": [
        {
          "output_type": "stream",
          "text": [
            "Requirement already satisfied: category_encoders in /usr/local/lib/python3.7/dist-packages (2.2.2)\n",
            "Requirement already satisfied: pandas>=0.21.1 in /usr/local/lib/python3.7/dist-packages (from category_encoders) (1.1.5)\n",
            "Requirement already satisfied: patsy>=0.5.1 in /usr/local/lib/python3.7/dist-packages (from category_encoders) (0.5.1)\n",
            "Requirement already satisfied: scikit-learn>=0.20.0 in /usr/local/lib/python3.7/dist-packages (from category_encoders) (0.22.2.post1)\n",
            "Requirement already satisfied: scipy>=1.0.0 in /usr/local/lib/python3.7/dist-packages (from category_encoders) (1.4.1)\n",
            "Requirement already satisfied: statsmodels>=0.9.0 in /usr/local/lib/python3.7/dist-packages (from category_encoders) (0.10.2)\n",
            "Requirement already satisfied: numpy>=1.14.0 in /usr/local/lib/python3.7/dist-packages (from category_encoders) (1.19.5)\n",
            "Requirement already satisfied: python-dateutil>=2.7.3 in /usr/local/lib/python3.7/dist-packages (from pandas>=0.21.1->category_encoders) (2.8.1)\n",
            "Requirement already satisfied: pytz>=2017.2 in /usr/local/lib/python3.7/dist-packages (from pandas>=0.21.1->category_encoders) (2018.9)\n",
            "Requirement already satisfied: six in /usr/local/lib/python3.7/dist-packages (from patsy>=0.5.1->category_encoders) (1.15.0)\n",
            "Requirement already satisfied: joblib>=0.11 in /usr/local/lib/python3.7/dist-packages (from scikit-learn>=0.20.0->category_encoders) (1.0.1)\n"
          ],
          "name": "stdout"
        }
      ]
    },
    {
      "cell_type": "code",
      "metadata": {
        "colab": {
          "base_uri": "https://localhost:8080/",
          "height": 323
        },
        "id": "nFPW1aeI-zko",
        "outputId": "111361b1-f0dc-4256-b03e-cfe112f3da52"
      },
      "source": [
        "final.head()"
      ],
      "execution_count": 629,
      "outputs": [
        {
          "output_type": "execute_result",
          "data": {
            "text/html": [
              "<div>\n",
              "<style scoped>\n",
              "    .dataframe tbody tr th:only-of-type {\n",
              "        vertical-align: middle;\n",
              "    }\n",
              "\n",
              "    .dataframe tbody tr th {\n",
              "        vertical-align: top;\n",
              "    }\n",
              "\n",
              "    .dataframe thead th {\n",
              "        text-align: right;\n",
              "    }\n",
              "</style>\n",
              "<table border=\"1\" class=\"dataframe\">\n",
              "  <thead>\n",
              "    <tr style=\"text-align: right;\">\n",
              "      <th></th>\n",
              "      <th>district_id</th>\n",
              "      <th>gender</th>\n",
              "      <th>age</th>\n",
              "      <th>age_levels</th>\n",
              "      <th>credit amount</th>\n",
              "      <th>debit amount</th>\n",
              "      <th>minus</th>\n",
              "      <th>trans_count</th>\n",
              "      <th>last_balance</th>\n",
              "      <th>min_inter</th>\n",
              "      <th>uver</th>\n",
              "      <th>PREVOD NA UCET</th>\n",
              "      <th>PREVOD Z UCTU</th>\n",
              "      <th>VKLAD</th>\n",
              "      <th>VYBER</th>\n",
              "      <th>VYBER KARTOU</th>\n",
              "      <th>period</th>\n",
              "      <th>unused</th>\n",
              "      <th>use_bank</th>\n",
              "      <th>status</th>\n",
              "      <th>grade</th>\n",
              "    </tr>\n",
              "    <tr>\n",
              "      <th>account_id</th>\n",
              "      <th></th>\n",
              "      <th></th>\n",
              "      <th></th>\n",
              "      <th></th>\n",
              "      <th></th>\n",
              "      <th></th>\n",
              "      <th></th>\n",
              "      <th></th>\n",
              "      <th></th>\n",
              "      <th></th>\n",
              "      <th></th>\n",
              "      <th></th>\n",
              "      <th></th>\n",
              "      <th></th>\n",
              "      <th></th>\n",
              "      <th></th>\n",
              "      <th></th>\n",
              "      <th></th>\n",
              "      <th></th>\n",
              "      <th></th>\n",
              "      <th></th>\n",
              "    </tr>\n",
              "  </thead>\n",
              "  <tbody>\n",
              "    <tr>\n",
              "      <th>1</th>\n",
              "      <td>18</td>\n",
              "      <td>FEMALE</td>\n",
              "      <td>29</td>\n",
              "      <td>ADULT</td>\n",
              "      <td>194268</td>\n",
              "      <td>180854</td>\n",
              "      <td>0</td>\n",
              "      <td>238</td>\n",
              "      <td>13413.9</td>\n",
              "      <td>0</td>\n",
              "      <td>0</td>\n",
              "      <td>40</td>\n",
              "      <td>45</td>\n",
              "      <td>12</td>\n",
              "      <td>97</td>\n",
              "      <td>0</td>\n",
              "      <td>1360</td>\n",
              "      <td>6</td>\n",
              "      <td>2</td>\n",
              "      <td>NaN</td>\n",
              "      <td>2</td>\n",
              "    </tr>\n",
              "    <tr>\n",
              "      <th>2</th>\n",
              "      <td>1</td>\n",
              "      <td>MALE</td>\n",
              "      <td>54</td>\n",
              "      <td>MIDDLE AGED</td>\n",
              "      <td>1.5969e+06</td>\n",
              "      <td>1.33698e+06</td>\n",
              "      <td>0</td>\n",
              "      <td>477</td>\n",
              "      <td>42471.3</td>\n",
              "      <td>0</td>\n",
              "      <td>24</td>\n",
              "      <td>89</td>\n",
              "      <td>70</td>\n",
              "      <td>12</td>\n",
              "      <td>237</td>\n",
              "      <td>0</td>\n",
              "      <td>2120</td>\n",
              "      <td>2</td>\n",
              "      <td>2</td>\n",
              "      <td>A</td>\n",
              "      <td>1</td>\n",
              "    </tr>\n",
              "    <tr>\n",
              "      <th>3</th>\n",
              "      <td>5</td>\n",
              "      <td>MALE</td>\n",
              "      <td>43</td>\n",
              "      <td>MIDDLE AGED</td>\n",
              "      <td>172849</td>\n",
              "      <td>119403</td>\n",
              "      <td>0</td>\n",
              "      <td>115</td>\n",
              "      <td>53446.5</td>\n",
              "      <td>0</td>\n",
              "      <td>0</td>\n",
              "      <td>39</td>\n",
              "      <td>0</td>\n",
              "      <td>28</td>\n",
              "      <td>31</td>\n",
              "      <td>0</td>\n",
              "      <td>522</td>\n",
              "      <td>8</td>\n",
              "      <td>3</td>\n",
              "      <td>NaN</td>\n",
              "      <td>2</td>\n",
              "    </tr>\n",
              "    <tr>\n",
              "      <th>4</th>\n",
              "      <td>12</td>\n",
              "      <td>MALE</td>\n",
              "      <td>80</td>\n",
              "      <td>SENIOR</td>\n",
              "      <td>192210</td>\n",
              "      <td>158625</td>\n",
              "      <td>0</td>\n",
              "      <td>185</td>\n",
              "      <td>33585</td>\n",
              "      <td>0</td>\n",
              "      <td>0</td>\n",
              "      <td>59</td>\n",
              "      <td>34</td>\n",
              "      <td>1</td>\n",
              "      <td>62</td>\n",
              "      <td>0</td>\n",
              "      <td>1026</td>\n",
              "      <td>6</td>\n",
              "      <td>1</td>\n",
              "      <td>NaN</td>\n",
              "      <td>2</td>\n",
              "    </tr>\n",
              "    <tr>\n",
              "      <th>5</th>\n",
              "      <td>15</td>\n",
              "      <td>MALE</td>\n",
              "      <td>70</td>\n",
              "      <td>SENIOR</td>\n",
              "      <td>97362.9</td>\n",
              "      <td>68446.4</td>\n",
              "      <td>0</td>\n",
              "      <td>81</td>\n",
              "      <td>28916.2</td>\n",
              "      <td>0</td>\n",
              "      <td>0</td>\n",
              "      <td>14</td>\n",
              "      <td>19</td>\n",
              "      <td>1</td>\n",
              "      <td>33</td>\n",
              "      <td>0</td>\n",
              "      <td>567</td>\n",
              "      <td>1</td>\n",
              "      <td>2</td>\n",
              "      <td>NaN</td>\n",
              "      <td>2</td>\n",
              "    </tr>\n",
              "  </tbody>\n",
              "</table>\n",
              "</div>"
            ],
            "text/plain": [
              "           district_id  gender age   age_levels  ... unused use_bank status grade\n",
              "account_id                                       ...                             \n",
              "1                   18  FEMALE  29        ADULT  ...      6        2    NaN     2\n",
              "2                    1    MALE  54  MIDDLE AGED  ...      2        2      A     1\n",
              "3                    5    MALE  43  MIDDLE AGED  ...      8        3    NaN     2\n",
              "4                   12    MALE  80       SENIOR  ...      6        1    NaN     2\n",
              "5                   15    MALE  70       SENIOR  ...      1        2    NaN     2\n",
              "\n",
              "[5 rows x 21 columns]"
            ]
          },
          "metadata": {
            "tags": []
          },
          "execution_count": 629
        }
      ]
    },
    {
      "cell_type": "markdown",
      "metadata": {
        "id": "usV-mZV6-NFT"
      },
      "source": [
        "#데이터 나누기 : feature와 target"
      ]
    },
    {
      "cell_type": "code",
      "metadata": {
        "id": "MRyxmieF-IWL"
      },
      "source": [
        "#leakage방지를 위해 grade 생성시 사용한 특성 제거(비금융적 정보로 우수고객 예측하기) \n",
        "final = final.drop([],axis=1)"
      ],
      "execution_count": 545,
      "outputs": []
    },
    {
      "cell_type": "code",
      "metadata": {
        "id": "10uzz4nVKVnL"
      },
      "source": [
        "# 은행의 거래 금액 큰 고객 가려내기 고객 등급 매기기 \n",
        "target = 'grade'\n",
        "\n",
        "#leakage방지를 위해 grade 생성시 사용한 특성 제거(비금융적 정보로 우수고객 예측하기) \n",
        "\n",
        "train_y = final[target]\n",
        "train_X = final.drop([target,'status','last_balance','trans_count','min_inter','minus','period','unused'],axis=1)"
      ],
      "execution_count": 546,
      "outputs": []
    },
    {
      "cell_type": "markdown",
      "metadata": {
        "id": "Gs6v3JWaMimq"
      },
      "source": [
        "#baseline 모델"
      ]
    },
    {
      "cell_type": "code",
      "metadata": {
        "colab": {
          "base_uri": "https://localhost:8080/"
        },
        "id": "2Wbktz2mMewU",
        "outputId": "971928c7-5857-46e2-e5fb-1cd54541a9f2"
      },
      "source": [
        "train_y.value_counts()"
      ],
      "execution_count": 547,
      "outputs": [
        {
          "output_type": "execute_result",
          "data": {
            "text/plain": [
              "2    4174\n",
              "1     203\n",
              "3     123\n",
              "Name: grade, dtype: int64"
            ]
          },
          "metadata": {
            "tags": []
          },
          "execution_count": 547
        }
      ]
    },
    {
      "cell_type": "code",
      "metadata": {
        "id": "xcN5F-xaXSKS"
      },
      "source": [
        "base_y = pd.Series([2]*len(train_y))"
      ],
      "execution_count": 548,
      "outputs": []
    },
    {
      "cell_type": "code",
      "metadata": {
        "id": "fhDmNFFdcD7i"
      },
      "source": [
        "train_y = train_y.astype(int)"
      ],
      "execution_count": 549,
      "outputs": []
    },
    {
      "cell_type": "code",
      "metadata": {
        "colab": {
          "base_uri": "https://localhost:8080/"
        },
        "id": "4JIcB-PFbF2C",
        "outputId": "463a7aa1-9871-434c-82a3-3b019ccba15c"
      },
      "source": [
        "from sklearn.metrics import f1_score\n",
        "f1_score(train_y, base_y,average='weighted')"
      ],
      "execution_count": 550,
      "outputs": [
        {
          "output_type": "execute_result",
          "data": {
            "text/plain": [
              "0.8926946942330848"
            ]
          },
          "metadata": {
            "tags": []
          },
          "execution_count": 550
        }
      ]
    },
    {
      "cell_type": "code",
      "metadata": {
        "id": "HXe17xkkOgWu"
      },
      "source": [
        "from sklearn.model_selection import train_test_split\n",
        "\n",
        "train_X, test_X, train_y, test_y = train_test_split(train_X,train_y, train_size=0.8,random_state=24)"
      ],
      "execution_count": 551,
      "outputs": []
    },
    {
      "cell_type": "markdown",
      "metadata": {
        "id": "G0F85cTIXHCg"
      },
      "source": [
        "# 모델 생성"
      ]
    },
    {
      "cell_type": "markdown",
      "metadata": {
        "id": "6J6nSX96w9aP"
      },
      "source": [
        "## RandomFrest 모델"
      ]
    },
    {
      "cell_type": "code",
      "metadata": {
        "colab": {
          "base_uri": "https://localhost:8080/"
        },
        "id": "U8vi7zzFSqhc",
        "outputId": "907dbd05-bebd-4737-ce69-cf7acca5d0e7"
      },
      "source": [
        "\n",
        "!pip install imblearn"
      ],
      "execution_count": 553,
      "outputs": [
        {
          "output_type": "stream",
          "text": [
            "Requirement already satisfied: imblearn in /usr/local/lib/python3.7/dist-packages (0.0)\n",
            "Requirement already satisfied: imbalanced-learn in /usr/local/lib/python3.7/dist-packages (from imblearn) (0.4.3)\n",
            "Requirement already satisfied: scipy>=0.13.3 in /usr/local/lib/python3.7/dist-packages (from imbalanced-learn->imblearn) (1.4.1)\n",
            "Requirement already satisfied: numpy>=1.8.2 in /usr/local/lib/python3.7/dist-packages (from imbalanced-learn->imblearn) (1.19.5)\n",
            "Requirement already satisfied: scikit-learn>=0.20 in /usr/local/lib/python3.7/dist-packages (from imbalanced-learn->imblearn) (0.22.2.post1)\n",
            "Requirement already satisfied: joblib>=0.11 in /usr/local/lib/python3.7/dist-packages (from scikit-learn>=0.20->imbalanced-learn->imblearn) (1.0.1)\n"
          ],
          "name": "stdout"
        }
      ]
    },
    {
      "cell_type": "code",
      "metadata": {
        "id": "Elq059NXVL_U"
      },
      "source": [
        "import numpy as np\n",
        "from sklearn.pipeline import make_pipeline,Pipeline\n",
        "from category_encoders import OneHotEncoder, OrdinalEncoder\n",
        "from sklearn.preprocessing import RobustScaler\n",
        "from sklearn.ensemble import RandomForestClassifier\n",
        "from sklearn.feature_selection import f_regression, SelectKBest\n",
        "from sklearn.model_selection import cross_val_score\n",
        "\n",
        "# 경고제거 코드\n",
        "np.seterr(divide='ignore', invalid='ignore')\n",
        "\n",
        "\n",
        "# gender 특성은 onehot , age_levels는 나이에 따른 level이라고 생각해 ordinal로 인코딩 \n",
        "pipe =  Pipeline([\n",
        "        ('preprocessing', make_pipeline(OneHotEncoder(cols=['gender']),OrdinalEncoder(cols=['age_levels']), RobustScaler())),\n",
        "   ('rf',RandomForestClassifier(max_depth=20, max_features= 0.8009300134244958, n_estimators= 313))\n",
        "])\n",
        "\n"
      ],
      "execution_count": 631,
      "outputs": []
    },
    {
      "cell_type": "code",
      "metadata": {
        "colab": {
          "base_uri": "https://localhost:8080/"
        },
        "id": "m0nj9bfEnRVa",
        "outputId": "cbd76346-b7ee-4b6c-9eea-aa6ef30b82fb"
      },
      "source": [
        "# train_X에 전처리 적용\n",
        "train_X2 = pipe.named_steps['preprocessing'].fit_transform(train_X)"
      ],
      "execution_count": 554,
      "outputs": [
        {
          "output_type": "stream",
          "text": [
            "/usr/local/lib/python3.7/dist-packages/category_encoders/utils.py:21: FutureWarning: is_categorical is deprecated and will be removed in a future version.  Use is_categorical_dtype instead\n",
            "  elif pd.api.types.is_categorical(cols):\n",
            "/usr/local/lib/python3.7/dist-packages/category_encoders/utils.py:21: FutureWarning: is_categorical is deprecated and will be removed in a future version.  Use is_categorical_dtype instead\n",
            "  elif pd.api.types.is_categorical(cols):\n"
          ],
          "name": "stderr"
        }
      ]
    },
    {
      "cell_type": "code",
      "metadata": {
        "colab": {
          "base_uri": "https://localhost:8080/"
        },
        "id": "m0MQLvV_Sn25",
        "outputId": "851d3df2-a16b-4630-8aa2-ab9f2874e17b"
      },
      "source": [
        "# 데이터 불균형으로 인한 과적합으로 언더샘플링 실행한 Train 데이터\n",
        "from imblearn.over_sampling import  ADASYN\n",
        "sam =  ADASYN(random_state=42)\n",
        "x_sam,y_sam = sam.fit_resample(train_X2,train_y)"
      ],
      "execution_count": 555,
      "outputs": [
        {
          "output_type": "stream",
          "text": [
            "/usr/local/lib/python3.7/dist-packages/sklearn/utils/deprecation.py:87: FutureWarning: Function safe_indexing is deprecated; safe_indexing is deprecated in version 0.22 and will be removed in version 0.24.\n",
            "  warnings.warn(msg, category=FutureWarning)\n",
            "/usr/local/lib/python3.7/dist-packages/sklearn/utils/deprecation.py:87: FutureWarning: Function safe_indexing is deprecated; safe_indexing is deprecated in version 0.22 and will be removed in version 0.24.\n",
            "  warnings.warn(msg, category=FutureWarning)\n"
          ],
          "name": "stderr"
        }
      ]
    },
    {
      "cell_type": "markdown",
      "metadata": {
        "id": "f4215Qs6sd1k"
      },
      "source": [
        "- 교차검증"
      ]
    },
    {
      "cell_type": "code",
      "metadata": {
        "colab": {
          "base_uri": "https://localhost:8080/"
        },
        "id": "PuUH5HO3W_J3",
        "outputId": "8b096070-1538-479b-a5c3-77d39ec184fb"
      },
      "source": [
        "# 교차검증 \n",
        "scores = cross_val_score(pipe.named_steps['rf'], x_sam,y_sam, cv=3, \n",
        "                         scoring='f1_macro')\n",
        "scores.mean()"
      ],
      "execution_count": 577,
      "outputs": [
        {
          "output_type": "execute_result",
          "data": {
            "text/plain": [
              "0.9617133754983903"
            ]
          },
          "metadata": {
            "tags": []
          },
          "execution_count": 577
        }
      ]
    },
    {
      "cell_type": "markdown",
      "metadata": {
        "id": "0V70ko4OxH-C"
      },
      "source": [
        "- 마지막 테스트셋 검사"
      ]
    },
    {
      "cell_type": "code",
      "metadata": {
        "colab": {
          "base_uri": "https://localhost:8080/"
        },
        "id": "3-5orpl6mIdk",
        "outputId": "cb92e9b4-d812-4aa4-b865-648cd4db0a20"
      },
      "source": [
        "pipe.named_steps['rf'].fit(x_sam,y_sam)\n",
        "pred = pipe.predict(test_X)\n",
        "f1_score(test_y,pred, average='weighted')"
      ],
      "execution_count": 560,
      "outputs": [
        {
          "output_type": "execute_result",
          "data": {
            "text/plain": [
              "0.9636167171411267"
            ]
          },
          "metadata": {
            "tags": []
          },
          "execution_count": 560
        }
      ]
    },
    {
      "cell_type": "markdown",
      "metadata": {
        "id": "L9BpQkp6w1sM"
      },
      "source": [
        "- 하이퍼파라미터 RandomizeCV"
      ]
    },
    {
      "cell_type": "code",
      "metadata": {
        "id": "_ovE5l6TWEhz"
      },
      "source": [
        "from scipy.stats import randint, uniform\n",
        "dists = {\n",
        "    'n_estimators': randint(50, 500), \n",
        "    'max_depth': [5, 10, 15, 20, None], \n",
        "    'max_features': uniform(0, 1) \n",
        "}"
      ],
      "execution_count": 571,
      "outputs": []
    },
    {
      "cell_type": "code",
      "metadata": {
        "id": "aMraj3fIXAuA",
        "colab": {
          "base_uri": "https://localhost:8080/"
        },
        "outputId": "d2b8b3a9-f5ff-414c-a7a1-143d14739cee"
      },
      "source": [
        "from sklearn.model_selection import RandomizedSearchCV\n",
        "clf = RandomizedSearchCV(\n",
        "    pipe.named_steps['rf'], \n",
        "    param_distributions=dists, \n",
        "    n_iter=50, \n",
        "    cv=3, \n",
        "    scoring='accuracy',  \n",
        "    verbose=1,\n",
        "   \n",
        "    n_jobs=-1\n",
        "\n",
        ")\n",
        "clf.fit(x_sam, y_sam)"
      ],
      "execution_count": 572,
      "outputs": [
        {
          "output_type": "stream",
          "text": [
            "Fitting 3 folds for each of 50 candidates, totalling 150 fits\n"
          ],
          "name": "stdout"
        },
        {
          "output_type": "stream",
          "text": [
            "[Parallel(n_jobs=-1)]: Using backend LokyBackend with 2 concurrent workers.\n",
            "[Parallel(n_jobs=-1)]: Done  46 tasks      | elapsed:  3.0min\n",
            "[Parallel(n_jobs=-1)]: Done 150 out of 150 | elapsed:  9.3min finished\n"
          ],
          "name": "stderr"
        },
        {
          "output_type": "execute_result",
          "data": {
            "text/plain": [
              "RandomizedSearchCV(cv=3, error_score=nan,\n",
              "                   estimator=RandomForestClassifier(bootstrap=True,\n",
              "                                                    ccp_alpha=0.0,\n",
              "                                                    class_weight=None,\n",
              "                                                    criterion='gini',\n",
              "                                                    max_depth=None,\n",
              "                                                    max_features='auto',\n",
              "                                                    max_leaf_nodes=None,\n",
              "                                                    max_samples=None,\n",
              "                                                    min_impurity_decrease=0.0,\n",
              "                                                    min_impurity_split=None,\n",
              "                                                    min_samples_leaf=1,\n",
              "                                                    min_samples_split=2,\n",
              "                                                    min_weight_fraction_leaf=0.0,\n",
              "                                                    n_estimators=100,\n",
              "                                                    n_jobs...\n",
              "                   iid='deprecated', n_iter=50, n_jobs=-1,\n",
              "                   param_distributions={'max_depth': [5, 10, 15, 20, None],\n",
              "                                        'max_features': <scipy.stats._distn_infrastructure.rv_frozen object at 0x7f9bc34d2f10>,\n",
              "                                        'n_estimators': <scipy.stats._distn_infrastructure.rv_frozen object at 0x7f9bc34d25d0>},\n",
              "                   pre_dispatch='2*n_jobs', random_state=None, refit=True,\n",
              "                   return_train_score=False, scoring='accuracy', verbose=1)"
            ]
          },
          "metadata": {
            "tags": []
          },
          "execution_count": 572
        }
      ]
    },
    {
      "cell_type": "code",
      "metadata": {
        "id": "DIhLpQKlWEYG",
        "colab": {
          "base_uri": "https://localhost:8080/"
        },
        "outputId": "8cffb90f-14d6-4686-c7e5-732f1bdc898e"
      },
      "source": [
        "clf.best_params_"
      ],
      "execution_count": 573,
      "outputs": [
        {
          "output_type": "execute_result",
          "data": {
            "text/plain": [
              "{'max_depth': 20, 'max_features': 0.8009300134244958, 'n_estimators': 313}"
            ]
          },
          "metadata": {
            "tags": []
          },
          "execution_count": 573
        }
      ]
    },
    {
      "cell_type": "code",
      "metadata": {
        "id": "P0Lu2b1A8UIG"
      },
      "source": [
        "#가장 성능 좋은 모델 셋팅\n",
        "clf.best_estimator_"
      ],
      "execution_count": null,
      "outputs": []
    },
    {
      "cell_type": "code",
      "metadata": {
        "id": "U4RKQLKAYV-Z"
      },
      "source": [
        "# k=10인 교차검증 수행\n",
        "# pipeline일 경우 model 대신 pipe로 넣기\n",
        "\n",
        "score = cross_val_score(pipe, train_X, train_y,scoring='accuracy',cv=10, n_jobs=-1)\n",
        "score.mean()"
      ],
      "execution_count": null,
      "outputs": []
    },
    {
      "cell_type": "code",
      "metadata": {
        "id": "HAuBqw-nU19O"
      },
      "source": [
        "from sklearn.metrics import accuracy_score\n",
        "\n",
        "# 테스트 셋으로 마지막 확인\n",
        "pred = pipe.predict(test_X)\n",
        "accuracy_score(test_y, pred)"
      ],
      "execution_count": null,
      "outputs": []
    },
    {
      "cell_type": "code",
      "metadata": {
        "id": "3sg2jwucpAv5"
      },
      "source": [
        "# 원핫 적용으로 칼럼이 늘어남\n",
        "# named_steps 두 번 적용\n",
        "\n",
        "onehot = pipe.named_steps['preprocessing'].named_steps['onehotencoder']\n",
        "col = onehot.transform(test_X).columns\n",
        "mask = pipe.named_steps['preprocessing'].named_steps['selectkbest'].get_support()\n",
        "# 중요 속성 20개\n",
        "col[mask]"
      ],
      "execution_count": null,
      "outputs": []
    },
    {
      "cell_type": "code",
      "metadata": {
        "id": "rtWOHVxQwrl2"
      },
      "source": [
        "# 특성 중요도(feature_importances_) 뽑기\n",
        "fi = pd.DataFrame(model.feature_importances_, index=col[mask], columns=['feature_importance'])\n",
        "fi =fi.sort_values(by=['feature_importance'], ascending=False)\n",
        "fi"
      ],
      "execution_count": null,
      "outputs": []
    },
    {
      "cell_type": "code",
      "metadata": {
        "id": "L1HYwL0rAGqc"
      },
      "source": [
        "!pip install eli5"
      ],
      "execution_count": null,
      "outputs": []
    },
    {
      "cell_type": "code",
      "metadata": {
        "id": "CLbaX_L0ADZw"
      },
      "source": [
        "import eli5\n",
        "from eli5.sklearn import PermutationImportance\n",
        "\n",
        "permuter = PermutationImportance(\n",
        "     pipe.named_steps['rf'],\n",
        "     scoring='accuracy',\n",
        "     n_iter=5,\n",
        "     random_state=24\n",
        ")\n",
        "\n",
        "train_X_processing  =pipe.named_steps['preprocessing'].transform(train_X)\n",
        "#  특성별 스코어 계산\n",
        "permuter.fit(train_X_processing,train_y)"
      ],
      "execution_count": null,
      "outputs": []
    },
    {
      "cell_type": "code",
      "metadata": {
        "id": "dzmr9ueLEe5b"
      },
      "source": [
        "permuter"
      ],
      "execution_count": null,
      "outputs": []
    },
    {
      "cell_type": "code",
      "metadata": {
        "id": "NrNN4pezEBRJ"
      },
      "source": [
        "# -인 특성을 제외해도 성능에 거의 영향이 없음\n",
        "# featrue importance \n",
        "pd.Series(permuter.feature_importances_, col[mask]).sort_values(ascending=False)"
      ],
      "execution_count": null,
      "outputs": []
    },
    {
      "cell_type": "code",
      "metadata": {
        "id": "gI1ZGUt8GDzw"
      },
      "source": [
        "eli5.show_weights(\n",
        "    permuter,\n",
        "    top=None,\n",
        "    feature_names= col[mask].tolist()\n",
        ")"
      ],
      "execution_count": null,
      "outputs": []
    },
    {
      "cell_type": "markdown",
      "metadata": {
        "id": "7u8R5Nm_sRrs"
      },
      "source": [
        "# XGBoost 모델 + 하이퍼파라미터 randomizeCV"
      ]
    },
    {
      "cell_type": "code",
      "metadata": {
        "id": "wgiU7Ga_iBfh"
      },
      "source": [
        "from xgboost import XGBClassifier\n",
        "\n",
        "# 경고제거 코드\n",
        "np.seterr(divide='ignore', invalid='ignore')\n",
        "\n",
        "\n",
        "pipe2 = make_pipeline(\n",
        "    OneHotEncoder(),\n",
        "    StandardScaler(),\n",
        "    SelectKBest(f_regression, k=20),\n",
        "    XGBClassifier(learning_rate = 0.07, max_depth =  8, min_child_weight=1, n_estimators= 809,subsample= 0.89))\n",
        "\n"
      ],
      "execution_count": null,
      "outputs": []
    },
    {
      "cell_type": "code",
      "metadata": {
        "id": "zPIpY9dmfLfc"
      },
      "source": [
        "from scipy.stats import randint, uniform\n",
        "dists =  {'xgbclassifier__n_estimators': randint(150, 1000),\n",
        "              'xgbclassifier__learning_rate':uniform(0.01, 0.6),\n",
        "              'xgbclassifier__subsample': uniform(0.3, 0.9),\n",
        "              'xgbclassifier__max_depth': [3, 4, 5, 6, 7, 8, 9],\n",
        "              'xgbclassifier__min_child_weight': [1, 2, 3, 4]\n",
        "             }"
      ],
      "execution_count": null,
      "outputs": []
    },
    {
      "cell_type": "code",
      "metadata": {
        "id": "k4z9Ofz7YXhJ"
      },
      "source": [
        "clf2 = RandomizedSearchCV(\n",
        "    pipe2, \n",
        "    param_distributions =dists, \n",
        "    n_iter=50, \n",
        "    cv=3, \n",
        "    scoring='accuracy',  \n",
        "    verbose=1,\n",
        "       n_jobs=-1\n",
        ")\n",
        "clf2.fit(train_X, train_y)"
      ],
      "execution_count": null,
      "outputs": []
    },
    {
      "cell_type": "code",
      "metadata": {
        "id": "g5UbxlQ5gIJx"
      },
      "source": [
        "clf2.best_params_"
      ],
      "execution_count": null,
      "outputs": []
    },
    {
      "cell_type": "code",
      "metadata": {
        "id": "wqAozp-QnjAF"
      },
      "source": [
        "score = cross_val_score(pipe2, train_X, train_y,scoring='accuracy',cv=10, n_jobs=-1)\n",
        "score.mean()"
      ],
      "execution_count": null,
      "outputs": []
    },
    {
      "cell_type": "code",
      "metadata": {
        "id": "gP0TTxQuna5B"
      },
      "source": [
        "pipe2.fit(train_X, train_y)\n",
        "pred = pipe2.predict(test_X)\n",
        "accuracy_score(test_y, pred)"
      ],
      "execution_count": null,
      "outputs": []
    },
    {
      "cell_type": "code",
      "metadata": {
        "id": "Jv0XFT8Wsc3D"
      },
      "source": [
        "pipe.fit(train_X, train_y)"
      ],
      "execution_count": null,
      "outputs": []
    },
    {
      "cell_type": "markdown",
      "metadata": {
        "id": "ohKjfhv3Uc2A"
      },
      "source": [
        ""
      ]
    },
    {
      "cell_type": "code",
      "metadata": {
        "id": "JDDQ_jOJNYjE"
      },
      "source": [
        "\n",
        "\n",
        "# leakage 방지를 위해 일부 feature 제거\n",
        "\n",
        "new3['']"
      ],
      "execution_count": null,
      "outputs": []
    }
  ]
}